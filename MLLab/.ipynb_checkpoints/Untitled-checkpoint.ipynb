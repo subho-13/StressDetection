{
 "cells": [
  {
   "cell_type": "code",
   "execution_count": 1,
   "id": "f47a2bba-40a1-4c42-9818-93bddc2079cc",
   "metadata": {},
   "outputs": [],
   "source": [
    "struct KDTree\n",
    "    root::Int64\n",
    "    tree::Matrix{Int64}\n",
    "    numdim::Int64\n",
    "    startdim::Int64\n",
    "end"
   ]
  },
  {
   "cell_type": "code",
   "execution_count": null,
   "id": "fba6518b-cc9c-4bde-a64e-64e9c9101665",
   "metadata": {},
   "outputs": [],
   "source": [
    "function insert_node!(kdtree::KDTree, data::Vector{Vector{T}}, dataindex::Int64, node::Int64, currdim::Int64)\n",
    "    if length(kdtree.tree[node]) == 0 :\n",
    "        push!(kdtree.tree[node], dataindex)\n",
    "    end\n",
    "    \n",
    "end"
   ]
  },
  {
   "cell_type": "code",
   "execution_count": 7,
   "id": "4cdd02bb-8d7d-4417-85dc-97729af778c8",
   "metadata": {},
   "outputs": [
    {
     "data": {
      "text/plain": [
       "construct_kdtree (generic function with 2 methods)"
      ]
     },
     "execution_count": 7,
     "metadata": {},
     "output_type": "execute_result"
    }
   ],
   "source": [
    "function construct_kdtree(data::Vector{Vector{T}}) where T <: AbstractFloat\n",
    "    if length(data) == 0 || length(data[1]) \n",
    "        error(\"The \")\n",
    "    end\n",
    "        \n",
    "    m = length(data)\n",
    "    n = length(data[1])\n",
    "        \n",
    "    sort!(data)\n",
    "    root = n÷2\n",
    "    \n",
    "            \n",
    "end"
   ]
  },
  {
   "cell_type": "code",
   "execution_count": 9,
   "id": "da72b4a6-ceef-45df-9a80-b85c88224aef",
   "metadata": {},
   "outputs": [
    {
     "data": {
      "text/plain": [
       "2-element Vector{Vector{Float64}}:\n",
       " [0.0, 2.9]\n",
       " [1.0, 2.0]"
      ]
     },
     "execution_count": 9,
     "metadata": {},
     "output_type": "execute_result"
    }
   ],
   "source": [
    "construct_kdtree([[1.0, 2.0], [0, 2.9]])"
   ]
  },
  {
   "cell_type": "code",
   "execution_count": 2,
   "id": "cf3c3ed4-2ca4-4b51-a876-8262f0bc2709",
   "metadata": {},
   "outputs": [
    {
     "data": {
      "text/plain": [
       "2×2 Matrix{Int64}:\n",
       " 1  2\n",
       " 3  4"
      ]
     },
     "execution_count": 2,
     "metadata": {},
     "output_type": "execute_result"
    }
   ],
   "source": [
    "v = [1 2; 3 4]"
   ]
  },
  {
   "cell_type": "code",
   "execution_count": 4,
   "id": "b42a9d4e-a2b8-44a3-ab5a-669365f4333e",
   "metadata": {},
   "outputs": [
    {
     "data": {
      "text/plain": [
       "1"
      ]
     },
     "execution_count": 4,
     "metadata": {},
     "output_type": "execute_result"
    }
   ],
   "source": [
    "v[1, 1]"
   ]
  },
  {
   "cell_type": "code",
   "execution_count": null,
   "id": "102f8c1e-66fe-4a30-9c0e-3c56fbe5ead0",
   "metadata": {},
   "outputs": [],
   "source": []
  }
 ],
 "metadata": {
  "kernelspec": {
   "display_name": "Julia 1.6.2",
   "language": "julia",
   "name": "julia-1.6"
  },
  "language_info": {
   "file_extension": ".jl",
   "mimetype": "application/julia",
   "name": "julia",
   "version": "1.6.2"
  }
 },
 "nbformat": 4,
 "nbformat_minor": 5
}
