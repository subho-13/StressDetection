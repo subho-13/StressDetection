{
 "cells": [
  {
   "cell_type": "code",
   "execution_count": 3,
   "source": [
    "import numpy as np\n",
    "import pandas as pd"
   ],
   "outputs": [],
   "metadata": {}
  },
  {
   "cell_type": "code",
   "execution_count": 4,
   "source": [
    "ref = {\n",
    "    'baseline' : 0\n",
    "}"
   ],
   "outputs": [],
   "metadata": {}
  },
  {
   "cell_type": "code",
   "execution_count": 5,
   "source": [
    "def convert_to_1d_array(data_2d):\n",
    "    data_1d = []\n",
    "    \n",
    "    for point in data_2d:\n",
    "        data_1d.append(point[0])\n",
    "        \n",
    "    return data_1d"
   ],
   "outputs": [],
   "metadata": {}
  },
  {
   "cell_type": "code",
   "execution_count": 6,
   "source": [
    "def baseline_av(signal, beg, end):\n",
    "    s = 0\n",
    "    n = beg - end\n",
    "    for i in range(beg, end) :\n",
    "        s += signal[i]\n",
    "    \n",
    "    return s/n"
   ],
   "outputs": [],
   "metadata": {}
  },
  {
   "cell_type": "code",
   "execution_count": 7,
   "source": [
    "def remove_baseline_bias(signal, beg, end, b_av) :    \n",
    "    for i in range(beg, end):\n",
    "        signal[i] -= b_av"
   ],
   "outputs": [],
   "metadata": {}
  },
  {
   "cell_type": "code",
   "execution_count": null,
   "source": [
    "\n"
   ],
   "outputs": [],
   "metadata": {}
  },
  {
   "cell_type": "code",
   "execution_count": 10,
   "source": [
    "def get_intervals(labels):\n",
    "    intervals = {\n",
    "        0 : [],\n",
    "        1 : [],\n",
    "        2 : [],\n",
    "        3 : [],\n",
    "        4 : []\n",
    "    }\n",
    "    \n",
    "    beg = 0\n",
    "    label = labels[beg]\n",
    "    \n",
    "    l = len(labels)\n",
    "    \n",
    "    for i in range(l) :\n",
    "        if labels[i] != label and labels[i] <= 4 :\n",
    "            intervals[label].append((beg, i))\n",
    "            \n",
    "            label = labels[i]\n",
    "            beg = i\n",
    "    \n",
    "    if label <= 4 :\n",
    "        intervals[label].append((beg, l)) \n",
    "    \n",
    "    return intervals"
   ],
   "outputs": [],
   "metadata": {}
  },
  {
   "cell_type": "code",
   "execution_count": null,
   "source": [],
   "outputs": [],
   "metadata": {}
  },
  {
   "cell_type": "code",
   "execution_count": 12,
   "source": [
    "SAMPLING_RATE = 700\n",
    "for i in range(2, 5):\n",
    "    if i == 12 :\n",
    "        continue\n",
    "\n",
    "    PATH = '../WESAD/S' + str(i) + '/S' + str(i) + '.pkl'\n",
    "    subject = pd.read_pickle(PATH)\n",
    "\n",
    "    intervals = get_intervals(subject['label'])\n",
    "\n",
    "    for state in intervals :\n",
    "        print(state)\n",
    "        \n",
    "        for interval in intervals[state] :\n",
    "            print (\"|-> \", interval, (interval[1] - interval[0])/700)"
   ],
   "outputs": [
    {
     "output_type": "stream",
     "name": "stdout",
     "text": [
      "0\n",
      "|->  (0, 214583) 306.54714285714283\n",
      "|->  (1015383, 1591482) 822.9985714285714\n",
      "|->  (2021982, 2868283) 1209.0014285714285\n",
      "|->  (3141982, 3334483) 275.00142857142856\n",
      "|->  (3587883, 3847583) 371.0\n",
      "|->  (4111483, 4255300) 205.45285714285714\n",
      "1\n",
      "|->  (214583, 1015383) 1144.0\n",
      "2\n",
      "|->  (1591482, 2021982) 615.0\n",
      "3\n",
      "|->  (3334483, 3587883) 362.0\n",
      "4\n",
      "|->  (2868283, 3141982) 390.99857142857144\n",
      "|->  (3847583, 4111483) 377.0\n",
      "0\n",
      "|->  (0, 246998) 352.8542857142857\n",
      "|->  (1044998, 1570698) 751.0\n",
      "|->  (2018698, 3007798) 1413.0\n",
      "|->  (3289198, 3502698) 305.0\n",
      "|->  (3765198, 4072497) 438.99857142857144\n",
      "|->  (4337098, 4545100) 297.1457142857143\n",
      "1\n",
      "|->  (246998, 1044998) 1140.0\n",
      "2\n",
      "|->  (1570698, 2018698) 640.0\n",
      "3\n",
      "|->  (3502698, 3765198) 375.0\n",
      "4\n",
      "|->  (3007798, 3289198) 402.0\n",
      "|->  (4072497, 4337098) 378.00142857142856\n",
      "0\n",
      "|->  (0, 199705) 285.29285714285714\n",
      "|->  (1010306, 1282606) 389.0\n",
      "|->  (1543006, 1879706) 481.0\n",
      "|->  (2165306, 2529306) 520.0\n",
      "|->  (2973806, 3973406) 1428.0\n",
      "|->  (4251306, 4496100) 349.7057142857143\n",
      "1\n",
      "|->  (199705, 1010306) 1158.0014285714285\n",
      "2\n",
      "|->  (2529306, 2973806) 635.0\n",
      "3\n",
      "|->  (1282606, 1543006) 372.0\n",
      "4\n",
      "|->  (1879706, 2165306) 408.0\n",
      "|->  (3973406, 4251306) 397.0\n"
     ]
    }
   ],
   "metadata": {}
  },
  {
   "cell_type": "code",
   "execution_count": null,
   "source": [],
   "outputs": [],
   "metadata": {}
  }
 ],
 "metadata": {
  "kernelspec": {
   "name": "python3",
   "display_name": "Python 3.9.5 64-bit"
  },
  "language_info": {
   "codemirror_mode": {
    "name": "ipython",
    "version": 3
   },
   "file_extension": ".py",
   "mimetype": "text/x-python",
   "name": "python",
   "nbconvert_exporter": "python",
   "pygments_lexer": "ipython3",
   "version": "3.9.5"
  },
  "interpreter": {
   "hash": "916dbcbb3f70747c44a77c7bcd40155683ae19c65e1c03b4aa3499c5328201f1"
  }
 },
 "nbformat": 4,
 "nbformat_minor": 5
}